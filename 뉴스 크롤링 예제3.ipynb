{
 "cells": [
  {
   "cell_type": "code",
   "execution_count": 1,
   "id": "4b7f8814",
   "metadata": {},
   "outputs": [
    {
     "name": "stdout",
     "output_type": "stream",
     "text": [
      "검색어 입력: 삼성전자\n",
      "삼성전자 신제품 '3각 편대'…국내 PC 시장 공략 http://www.newsis.com/view/?id=NISX20230501_0002286433&cID=13001&pID=13000\n",
      "전장으로 보릿고개 넘는 전자업계…삼성·LG '가속 페달' https://www.yna.co.kr/view/AKR20230430022700003?input=1195m\n",
      "삼성전자·TSMC '2나노 반도체 전쟁' 스타트 https://www.etnews.com/20230428000170\n",
      "D램 시장 ‘DDR5 레이스’ 시작됐다… 선공은 SK하이닉스, 삼성전자는 ‘반격... https://biz.chosun.com/it-science/ict/2023/05/01/SXIT4DYAR5A4NC2P4FVVX3MASU/?utm_source=naver&utm_medium=original&utm_campaign=biz\n",
      "삼성전자의 '의미있는 감산' 예고, 반도체 시장 올 여름 되살아날까 https://hankookilbo.com/News/Read/A2023043017000004480?did=NA\n",
      "\"8만전자 가자\"…삼성전자 목표가 줄상향 https://zdnet.co.kr/view/?no=20230428155113\n",
      "“요새 사이 좋네” 삼성전자와 네이버, 손잡는 이유는 https://magazine.hankyung.com/business/article/202304264533b\n",
      "삼성전자, R&D에 웨이퍼 투입 늘린다…\"초격차 경쟁력 확보\" https://www.yna.co.kr/view/AKR20230429028000003?input=1195m\n",
      "삼성전자 \"가전 2개 품목 이상 구매 고객에게 최대 50만원 혜택\" https://www.dailian.co.kr/news/view/1229056/?sc=Naver\n",
      "\"악성재고 되기 전에 턴다\"…삼성전자 반도체 감산 '최대 25%' https://www.news1.kr/articles/5031236\n"
     ]
    }
   ],
   "source": [
    "# 제목 수준\n",
    "import requests\n",
    "from bs4 import BeautifulSoup\n",
    "\n",
    "keyword = input(\"검색어 입력: \")\n",
    "response = requests.get(\"https://search.naver.com/search.naver?where=news&sm=tab_jum&query=\"+keyword)\n",
    "html = response.text\n",
    "\n",
    "soup = BeautifulSoup(html,'html.parser')\n",
    "# html에서 뉴스 제목 부분의 클래스 명\n",
    "# a 태그의 정보가 리스트 형태로 담긴다!\n",
    "links = soup.select(\".news_tit\")    \n",
    "\n",
    "for link in links:\n",
    "    title = link.text # 테그 안에 텍스트 요소를 가져옴\n",
    "    url = link.attrs['href']    # href의 속성값을 가져옴\n",
    "    print(title,url)"
   ]
  },
  {
   "cell_type": "code",
   "execution_count": 1,
   "id": "9ae5e098",
   "metadata": {},
   "outputs": [
    {
     "name": "stdout",
     "output_type": "stream",
     "text": [
      "검색어 입력: 삼성전자\n",
      "[<a class=\"info press\" href=\"http://www.newsis.com\" onclick=\"return goOtherCR(this, 'a=nws*h.prof&amp;r=1&amp;i=88000127_000000000000000011833427&amp;g=003.0011833427&amp;u='+urlencode(this.href));\" target=\"_blank\"><span class=\"thumb_box\"><img alt=\"\" class=\"thumb\" data-lazysrc=\"https://search.pstatic.net/common/?src=https%3A%2F%2Fmimgnews.pstatic.net%2Fimage%2Fupload%2Foffice_logo%2F003%2F2019%2F02%2F19%2Flogo_003_18_20190219111719.jpg&amp;type=f54_54&amp;expire=24&amp;refresh=true\" height=\"20\" onerror=\"this.src='data:image/gif;base64,R0lGODlhAQABAIAAAAAAAP///yH5BAEAAAAALAAAAAABAAEAAAIBRAA7';this.className='thumb bg_default_press'\" src=\"data:image/gif;base64,R0lGODlhAQABAIAAAAAAAP///yH5BAEAAAAALAAAAAABAAEAAAIBRAA7\" width=\"20\"/></span>뉴시스<i class=\"spnew ico_pick\">언론사 선정</i></a>, <span class=\"info\">3시간 전</span>, <a class=\"info\" href=\"https://n.news.naver.com/mnews/article/003/0011833427?sid=101\" onclick=\"return goOtherCR(this, 'a=nws*h.nav&amp;r=1&amp;i=88000127_000000000000000011833427&amp;u='+urlencode(this.href));\" target=\"_blank\">네이버뉴스</a>, <a class=\"info press\" href=\"https://www.yna.co.kr/\" onclick=\"return goOtherCR(this, 'a=nws*a.prof&amp;r=6&amp;i=880000D8_000000000000000013913696&amp;g=001.0013913696&amp;u='+urlencode(this.href));\" target=\"_blank\"><span class=\"thumb_box\"><img alt=\"\" class=\"thumb\" data-lazysrc=\"https://search.pstatic.net/common/?src=https%3A%2F%2Fmimgnews.pstatic.net%2Fimage%2Fupload%2Foffice_logo%2F001%2F2017%2F06%2F29%2Flogo_001_18_20170629160329.png&amp;type=f54_54&amp;expire=24&amp;refresh=true\" height=\"20\" onerror=\"this.src='data:image/gif;base64,R0lGODlhAQABAIAAAAAAAP///yH5BAEAAAAALAAAAAABAAEAAAIBRAA7';this.className='thumb bg_default_press'\" src=\"data:image/gif;base64,R0lGODlhAQABAIAAAAAAAP///yH5BAEAAAAALAAAAAABAAEAAAIBRAA7\" width=\"20\"/></span>연합뉴스</a>, <span class=\"info\">4시간 전</span>, <a class=\"info\" href=\"https://n.news.naver.com/mnews/article/001/0013913696?sid=101\" onclick=\"return goOtherCR(this, 'a=nws*a.nav&amp;r=6&amp;i=880000D8_000000000000000013913696&amp;u='+urlencode(this.href));\" target=\"_blank\">네이버뉴스</a>, <a class=\"info press\" href=\"http://www.etnews.com\" onclick=\"return goOtherCR(this, 'a=nws*a.prof&amp;r=11&amp;i=880000EA_000000000000000003095512&amp;g=030.0003095512&amp;u='+urlencode(this.href));\" target=\"_blank\"><span class=\"thumb_box\"><img alt=\"\" class=\"thumb\" data-lazysrc=\"https://search.pstatic.net/common/?src=https%3A%2F%2Fmimgnews.pstatic.net%2Fimage%2Fupload%2Foffice_logo%2F030%2F2017%2F01%2F05%2Flogo_030_18_20170105111205.png&amp;type=f54_54&amp;expire=24&amp;refresh=true\" height=\"20\" onerror=\"this.src='data:image/gif;base64,R0lGODlhAQABAIAAAAAAAP///yH5BAEAAAAALAAAAAABAAEAAAIBRAA7';this.className='thumb bg_default_press'\" src=\"data:image/gif;base64,R0lGODlhAQABAIAAAAAAAP///yH5BAEAAAAALAAAAAABAAEAAAIBRAA7\" width=\"20\"/></span>전자신문</a>, <span class=\"info\">3시간 전</span>, <a class=\"info\" href=\"https://n.news.naver.com/mnews/article/030/0003095512?sid=105\" onclick=\"return goOtherCR(this, 'a=nws*a.nav&amp;r=11&amp;i=880000EA_000000000000000003095512&amp;u='+urlencode(this.href));\" target=\"_blank\">네이버뉴스</a>, <a class=\"info press\" href=\"http://www.mt.co.kr/\" onclick=\"return goOtherCR(this, 'a=nws*a.prof&amp;r=16&amp;i=880000C2_000000000000000004881769&amp;g=008.0004881769&amp;u='+urlencode(this.href));\" target=\"_blank\"><span class=\"thumb_box\"><img alt=\"\" class=\"thumb\" data-lazysrc=\"https://search.pstatic.net/common/?src=https%3A%2F%2Fmimgnews.pstatic.net%2Fimage%2Fupload%2Foffice_logo%2F008%2F2018%2F09%2F13%2Flogo_008_18_20180913140113.png&amp;type=f54_54&amp;expire=24&amp;refresh=true\" height=\"20\" onerror=\"this.src='data:image/gif;base64,R0lGODlhAQABAIAAAAAAAP///yH5BAEAAAAALAAAAAABAAEAAAIBRAA7';this.className='thumb bg_default_press'\" src=\"data:image/gif;base64,R0lGODlhAQABAIAAAAAAAP///yH5BAEAAAAALAAAAAABAAEAAAIBRAA7\" width=\"20\"/></span>머니투데이</a>, <span class=\"info\">4시간 전</span>, <a class=\"info\" href=\"https://n.news.naver.com/mnews/article/008/0004881769?sid=105\" onclick=\"return goOtherCR(this, 'a=nws*a.nav&amp;r=16&amp;i=880000C2_000000000000000004881769&amp;u='+urlencode(this.href));\" target=\"_blank\">네이버뉴스</a>, <a class=\"info press\" href=\"https://www.yna.co.kr/\" onclick=\"return goOtherCR(this, 'a=nws*e.prof&amp;r=21&amp;i=880000D8_000000000000000013913476&amp;g=001.0013913476&amp;u='+urlencode(this.href));\" target=\"_blank\"><span class=\"thumb_box\"><img alt=\"\" class=\"thumb\" data-lazysrc=\"https://search.pstatic.net/common/?src=https%3A%2F%2Fmimgnews.pstatic.net%2Fimage%2Fupload%2Foffice_logo%2F001%2F2017%2F06%2F29%2Flogo_001_18_20170629160329.png&amp;type=f54_54&amp;expire=24&amp;refresh=true\" height=\"20\" onerror=\"this.src='data:image/gif;base64,R0lGODlhAQABAIAAAAAAAP///yH5BAEAAAAALAAAAAABAAEAAAIBRAA7';this.className='thumb bg_default_press'\" src=\"data:image/gif;base64,R0lGODlhAQABAIAAAAAAAP///yH5BAEAAAAALAAAAAABAAEAAAIBRAA7\" width=\"20\"/></span>연합뉴스</a>, <span class=\"info\">8시간 전</span>, <a class=\"info\" href=\"https://n.news.naver.com/mnews/article/001/0013913476?sid=101\" onclick=\"return goOtherCR(this, 'a=nws*e.nav&amp;r=21&amp;i=880000D8_000000000000000013913476&amp;u='+urlencode(this.href));\" target=\"_blank\">네이버뉴스</a>, <a class=\"info press\" href=\"https://www.yna.co.kr/\" onclick=\"return goOtherCR(this, 'a=nws*a.prof&amp;r=22&amp;i=880000D8_000000000000000013913465&amp;g=001.0013913465&amp;u='+urlencode(this.href));\" target=\"_blank\"><span class=\"thumb_box\"><img alt=\"\" class=\"thumb\" data-lazysrc=\"https://search.pstatic.net/common/?src=https%3A%2F%2Fmimgnews.pstatic.net%2Fimage%2Fupload%2Foffice_logo%2F001%2F2017%2F06%2F29%2Flogo_001_18_20170629160329.png&amp;type=f54_54&amp;expire=24&amp;refresh=true\" height=\"20\" onerror=\"this.src='data:image/gif;base64,R0lGODlhAQABAIAAAAAAAP///yH5BAEAAAAALAAAAAABAAEAAAIBRAA7';this.className='thumb bg_default_press'\" src=\"data:image/gif;base64,R0lGODlhAQABAIAAAAAAAP///yH5BAEAAAAALAAAAAABAAEAAAIBRAA7\" width=\"20\"/></span>연합뉴스</a>, <span class=\"info\">8시간 전</span>, <a class=\"info\" href=\"https://n.news.naver.com/mnews/article/001/0013913465?sid=105\" onclick=\"return goOtherCR(this, 'a=nws*a.nav&amp;r=22&amp;i=880000D8_000000000000000013913465&amp;u='+urlencode(this.href));\" target=\"_blank\">네이버뉴스</a>, <a class=\"info press\" href=\"http://biz.chosun.com/\" onclick=\"return goOtherCR(this, 'a=nws*j.prof&amp;r=24&amp;i=88127058_000000000000000000898020&amp;g=366.0000898020&amp;u='+urlencode(this.href));\" target=\"_blank\"><span class=\"thumb_box\"><img alt=\"\" class=\"thumb\" data-lazysrc=\"https://search.pstatic.net/common/?src=https%3A%2F%2Fmimgnews.pstatic.net%2Fimage%2Fupload%2Foffice_logo%2F366%2F2017%2F01%2F05%2Flogo_366_18_20170105111205.png&amp;type=f54_54&amp;expire=24&amp;refresh=true\" height=\"20\" onerror=\"this.src='data:image/gif;base64,R0lGODlhAQABAIAAAAAAAP///yH5BAEAAAAALAAAAAABAAEAAAIBRAA7';this.className='thumb bg_default_press'\" src=\"data:image/gif;base64,R0lGODlhAQABAIAAAAAAAP///yH5BAEAAAAALAAAAAABAAEAAAIBRAA7\" width=\"20\"/></span>조선비즈<i class=\"spnew ico_pick\">언론사 선정</i></a>, <span class=\"info\">8시간 전</span>, <a class=\"info\" href=\"https://n.news.naver.com/mnews/article/366/0000898020?sid=105\" onclick=\"return goOtherCR(this, 'a=nws*j.nav&amp;r=24&amp;i=88127058_000000000000000000898020&amp;u='+urlencode(this.href));\" target=\"_blank\">네이버뉴스</a>, <a class=\"info press\" href=\"http://www.etnews.com\" onclick=\"return goOtherCR(this, 'a=nws*e.prof&amp;r=25&amp;i=880000EA_000000000000000003095497&amp;g=030.0003095497&amp;u='+urlencode(this.href));\" target=\"_blank\"><span class=\"thumb_box\"><img alt=\"\" class=\"thumb\" data-lazysrc=\"https://search.pstatic.net/common/?src=https%3A%2F%2Fmimgnews.pstatic.net%2Fimage%2Fupload%2Foffice_logo%2F030%2F2017%2F01%2F05%2Flogo_030_18_20170105111205.png&amp;type=f54_54&amp;expire=24&amp;refresh=true\" height=\"20\" onerror=\"this.src='data:image/gif;base64,R0lGODlhAQABAIAAAAAAAP///yH5BAEAAAAALAAAAAABAAEAAAIBRAA7';this.className='thumb bg_default_press'\" src=\"data:image/gif;base64,R0lGODlhAQABAIAAAAAAAP///yH5BAEAAAAALAAAAAABAAEAAAIBRAA7\" width=\"20\"/></span>전자신문</a>, <span class=\"info\">3시간 전</span>, <a class=\"info\" href=\"https://n.news.naver.com/mnews/article/030/0003095497?sid=105\" onclick=\"return goOtherCR(this, 'a=nws*e.nav&amp;r=25&amp;i=880000EA_000000000000000003095497&amp;u='+urlencode(this.href));\" target=\"_blank\">네이버뉴스</a>, <a class=\"info press\" href=\"http://www.sedaily.com\" onclick=\"return goOtherCR(this, 'a=nws*a.prof&amp;r=26&amp;i=88000108_000000000000000004185287&amp;g=011.0004185287&amp;u='+urlencode(this.href));\" target=\"_blank\"><span class=\"thumb_box\"><img alt=\"\" class=\"thumb\" data-lazysrc=\"https://search.pstatic.net/common/?src=https%3A%2F%2Fmimgnews.pstatic.net%2Fimage%2Fupload%2Foffice_logo%2F011%2F2022%2F07%2F29%2Flogo_011_18_20220729150242.jpg&amp;type=f54_54&amp;expire=24&amp;refresh=true\" height=\"20\" onerror=\"this.src='data:image/gif;base64,R0lGODlhAQABAIAAAAAAAP///yH5BAEAAAAALAAAAAABAAEAAAIBRAA7';this.className='thumb bg_default_press'\" src=\"data:image/gif;base64,R0lGODlhAQABAIAAAAAAAP///yH5BAEAAAAALAAAAAABAAEAAAIBRAA7\" width=\"20\"/></span>서울경제</a>, <span class=\"info\">3시간 전</span>, <a class=\"info\" href=\"https://n.news.naver.com/mnews/article/011/0004185287?sid=101\" onclick=\"return goOtherCR(this, 'a=nws*a.nav&amp;r=26&amp;i=88000108_000000000000000004185287&amp;u='+urlencode(this.href));\" target=\"_blank\">네이버뉴스</a>, <a class=\"info press\" href=\"http://www.etnews.com\" onclick=\"return goOtherCR(this, 'a=nws*j.prof&amp;r=30&amp;i=880000EA_000000000000000003095377&amp;g=030.0003095377&amp;u='+urlencode(this.href));\" target=\"_blank\"><span class=\"thumb_box\"><img alt=\"\" class=\"thumb\" data-lazysrc=\"https://search.pstatic.net/common/?src=https%3A%2F%2Fmimgnews.pstatic.net%2Fimage%2Fupload%2Foffice_logo%2F030%2F2017%2F01%2F05%2Flogo_030_18_20170105111205.png&amp;type=f54_54&amp;expire=24&amp;refresh=true\" height=\"20\" onerror=\"this.src='data:image/gif;base64,R0lGODlhAQABAIAAAAAAAP///yH5BAEAAAAALAAAAAABAAEAAAIBRAA7';this.className='thumb bg_default_press'\" src=\"data:image/gif;base64,R0lGODlhAQABAIAAAAAAAP///yH5BAEAAAAALAAAAAABAAEAAAIBRAA7\" width=\"20\"/></span>전자신문<i class=\"spnew ico_pick\">언론사 선정</i></a>, <span class=\"info\"><i class=\"spnew ico_paper\"></i>2면 TOP</span>, <span class=\"info\">22시간 전</span>, <a class=\"info\" href=\"https://n.news.naver.com/mnews/article/030/0003095377?sid=105\" onclick=\"return goOtherCR(this, 'a=nws*j.nav&amp;r=30&amp;i=880000EA_000000000000000003095377&amp;u='+urlencode(this.href));\" target=\"_blank\">네이버뉴스</a>, <div class=\"info\">뉴스 기사와 댓글로 인한 문제 발생시 <span class=\"txt\">24시간 센터로 접수해주세요.</span><i class=\"spnew api_ico_help\"></i></div>]\n",
      "뉴시스언론사 선정 http://www.newsis.com\n"
     ]
    },
    {
     "ename": "KeyError",
     "evalue": "'href'",
     "output_type": "error",
     "traceback": [
      "\u001b[1;31m---------------------------------------------------------------------------\u001b[0m",
      "\u001b[1;31mKeyError\u001b[0m                                  Traceback (most recent call last)",
      "\u001b[1;32m~\\AppData\\Local\\Temp/ipykernel_11996/561425886.py\u001b[0m in \u001b[0;36m<module>\u001b[1;34m\u001b[0m\n\u001b[0;32m     18\u001b[0m \u001b[1;32mfor\u001b[0m \u001b[0mlink\u001b[0m \u001b[1;32min\u001b[0m \u001b[0mlinks\u001b[0m\u001b[1;33m:\u001b[0m\u001b[1;33m\u001b[0m\u001b[1;33m\u001b[0m\u001b[0m\n\u001b[0;32m     19\u001b[0m     \u001b[0mtitle\u001b[0m \u001b[1;33m=\u001b[0m \u001b[0mlink\u001b[0m\u001b[1;33m.\u001b[0m\u001b[0mtext\u001b[0m \u001b[1;31m# 태그 안에 텍스트 요소를 가져옴\u001b[0m\u001b[1;33m\u001b[0m\u001b[1;33m\u001b[0m\u001b[0m\n\u001b[1;32m---> 20\u001b[1;33m     \u001b[0murl\u001b[0m \u001b[1;33m=\u001b[0m \u001b[0mlink\u001b[0m\u001b[1;33m.\u001b[0m\u001b[0mattrs\u001b[0m\u001b[1;33m[\u001b[0m\u001b[1;34m'href'\u001b[0m\u001b[1;33m]\u001b[0m    \u001b[1;31m# href의 속성값을 가져옴\u001b[0m\u001b[1;33m\u001b[0m\u001b[1;33m\u001b[0m\u001b[0m\n\u001b[0m\u001b[0;32m     21\u001b[0m     \u001b[0murls\u001b[0m\u001b[1;33m.\u001b[0m\u001b[0mappend\u001b[0m\u001b[1;33m(\u001b[0m\u001b[0murl\u001b[0m\u001b[1;33m)\u001b[0m\u001b[1;33m\u001b[0m\u001b[1;33m\u001b[0m\u001b[0m\n\u001b[0;32m     22\u001b[0m     \u001b[0mprint\u001b[0m\u001b[1;33m(\u001b[0m\u001b[0mtitle\u001b[0m\u001b[1;33m,\u001b[0m\u001b[0murl\u001b[0m\u001b[1;33m)\u001b[0m\u001b[1;33m\u001b[0m\u001b[1;33m\u001b[0m\u001b[0m\n",
      "\u001b[1;31mKeyError\u001b[0m: 'href'"
     ]
    }
   ],
   "source": [
    "# 제목 수준\n",
    "import requests\n",
    "from bs4 import BeautifulSoup\n",
    "\n",
    "keyword = input(\"검색어 입력: \")\n",
    "\n",
    "headers = {'user-agent':'Mozilla/5.0 (Windows NT 10.0; Win64; x64) AppleWebKit/537.36 (KHTML, like Gecko) Chrome/112.0.0.0 Safari/537.36'}\n",
    "response = requests.get(\"https://search.naver.com/search.naver?where=news&sm=tab_jum&query=\"+keyword,headers = headers)\n",
    "html = response.text\n",
    "\n",
    "soup = BeautifulSoup(html,'html.parser')\n",
    "# html에서 뉴스 제목 부분의 클래스 명\n",
    "# a 태그의 정보가 리스트 형태로 담긴다!\n",
    "links = soup.select(\".info\")    \n",
    "urls = []\n",
    "print(links)\n",
    "\n",
    "for link in links:\n",
    "    title = link.text # 태그 안에 텍스트 요소를 가져옴\n",
    "    url = link.attrs['href']    # href의 속성값을 가져옴\n",
    "    urls.append(url)\n",
    "    print(title,url)\n",
    "#     soup3 = BeautifulSoup(requests.get(url,headers=headers).text,'html.parser')\n",
    "#     #for j in soup3.find_all('div',{'class':'viewer'}):\n",
    "#     for j in soup3.select(\".viewer\"):\n",
    "#         print(j.text)"
   ]
  },
  {
   "cell_type": "code",
   "execution_count": null,
   "id": "1992f90b",
   "metadata": {},
   "outputs": [],
   "source": []
  }
 ],
 "metadata": {
  "kernelspec": {
   "display_name": "Python 3 (ipykernel)",
   "language": "python",
   "name": "python3"
  },
  "language_info": {
   "codemirror_mode": {
    "name": "ipython",
    "version": 3
   },
   "file_extension": ".py",
   "mimetype": "text/x-python",
   "name": "python",
   "nbconvert_exporter": "python",
   "pygments_lexer": "ipython3",
   "version": "3.9.7"
  }
 },
 "nbformat": 4,
 "nbformat_minor": 5
}
