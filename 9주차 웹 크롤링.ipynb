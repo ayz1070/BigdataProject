{
 "cells": [
  {
   "cell_type": "code",
   "execution_count": 1,
   "id": "dd8f23ba",
   "metadata": {},
   "outputs": [],
   "source": [
    "# requests\n",
    "# 파이썬에서 제공하는 HTML 다운로드 라이브러리\n",
    "# 웹 페이지의 URL을 입력받아서 웹 페이지의 HTML 문서를 가져옴\n",
    "\n",
    "import requests\n",
    "\n",
    "url = \"https://n.news.naver.com/mnews/article/023/0003761687?sid=105\"\n",
    "response = requests.get(url)"
   ]
  },
  {
   "cell_type": "code",
   "execution_count": 4,
   "id": "7f68e598",
   "metadata": {},
   "outputs": [
    {
     "name": "stdout",
     "output_type": "stream",
     "text": [
      "Title Gateway Timeout - In read \n",
      "\n",
      "Reference #1.afe43517.1683173810.2d35df54\n",
      "\n"
     ]
    }
   ],
   "source": [
    "# BeautifulSoup\n",
    "# HTMl과 XML과 같은 마크업 언어를 파싱하고 탐색하는 파이썬 라이브러리\n",
    "\n",
    "from bs4 import BeautifulSoup\n",
    "import requests\n",
    "\n",
    "url = \"https://n.news.naver.com/mnews/article/023/0003761687?sid=105\"\n",
    "response = requests.get(url)\n",
    "\n",
    "# 텍스트로 받아서 HTML로 파싱해주세요!\n",
    "soup = BeautifulSoup(response.text,'html.parser')\n",
    "\n",
    "title = soup.title.string\n",
    "print('Title',title)\n",
    "\n",
    "p_tags = soup.find_all('p')\n",
    "for p in p_tags:\n",
    "    print(p.text)"
   ]
  },
  {
   "cell_type": "code",
   "execution_count": null,
   "id": "9dc58bb9",
   "metadata": {},
   "outputs": [],
   "source": []
  }
 ],
 "metadata": {
  "kernelspec": {
   "display_name": "Python 3 (ipykernel)",
   "language": "python",
   "name": "python3"
  },
  "language_info": {
   "codemirror_mode": {
    "name": "ipython",
    "version": 3
   },
   "file_extension": ".py",
   "mimetype": "text/x-python",
   "name": "python",
   "nbconvert_exporter": "python",
   "pygments_lexer": "ipython3",
   "version": "3.9.7"
  }
 },
 "nbformat": 4,
 "nbformat_minor": 5
}
